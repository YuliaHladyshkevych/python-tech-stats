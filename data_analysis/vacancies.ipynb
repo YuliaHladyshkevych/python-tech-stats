{
 "cells": [
  {
   "cell_type": "code",
   "execution_count": 1,
   "id": "initial_id",
   "metadata": {
    "collapsed": true,
    "ExecuteTime": {
     "end_time": "2024-01-10T11:03:18.045004Z",
     "start_time": "2024-01-10T11:03:17.626213Z"
    }
   },
   "outputs": [],
   "source": [
    "import numpy as np\n",
    "import pandas as pd\n",
    "import matplotlib.pyplot as plt"
   ]
  },
  {
   "cell_type": "markdown",
   "source": [
    "# Reading Data"
   ],
   "metadata": {
    "collapsed": false
   },
   "id": "cef4b8cebe4b96e8"
  },
  {
   "cell_type": "code",
   "outputs": [
    {
     "data": {
      "text/plain": "                                       title            company  experience  \\\n0    Senior Python Developer_Competency Lead            Develux           5   \n1                            Python Engineer  Lemberg Solutions           3   \n2  Middle/ Middle+ Back-end Python Developer           ARENA CS           3   \n3     Automation QA Middle (Python) Engineer    Delphi Software           3   \n4                    Senior Django Developer           Encomane           3   \n\n   salary  views  applications  \\\n0     NaN     15             1   \n1     NaN     41             9   \n2  1000.0     67            22   \n3  1500.0     31             7   \n4     NaN     66            27   \n\n                                        technologies  \n0  subscription,paid,schedule,benefits,courses,ma...  \n1  accounting,meticulously,paid,workshops,ability...  \n2  рішення,супроводжувати,бізнесу,наша,рівні,підх...  \n3  manual,gatling,paid,schedule,language,system,s...  \n4  mysql,ап,консалтингова,робота,agreements,самос...  ",
      "text/html": "<div>\n<style scoped>\n    .dataframe tbody tr th:only-of-type {\n        vertical-align: middle;\n    }\n\n    .dataframe tbody tr th {\n        vertical-align: top;\n    }\n\n    .dataframe thead th {\n        text-align: right;\n    }\n</style>\n<table border=\"1\" class=\"dataframe\">\n  <thead>\n    <tr style=\"text-align: right;\">\n      <th></th>\n      <th>title</th>\n      <th>company</th>\n      <th>experience</th>\n      <th>salary</th>\n      <th>views</th>\n      <th>applications</th>\n      <th>technologies</th>\n    </tr>\n  </thead>\n  <tbody>\n    <tr>\n      <th>0</th>\n      <td>Senior Python Developer_Competency Lead</td>\n      <td>Develux</td>\n      <td>5</td>\n      <td>NaN</td>\n      <td>15</td>\n      <td>1</td>\n      <td>subscription,paid,schedule,benefits,courses,ma...</td>\n    </tr>\n    <tr>\n      <th>1</th>\n      <td>Python Engineer</td>\n      <td>Lemberg Solutions</td>\n      <td>3</td>\n      <td>NaN</td>\n      <td>41</td>\n      <td>9</td>\n      <td>accounting,meticulously,paid,workshops,ability...</td>\n    </tr>\n    <tr>\n      <th>2</th>\n      <td>Middle/ Middle+ Back-end Python Developer</td>\n      <td>ARENA CS</td>\n      <td>3</td>\n      <td>1000.0</td>\n      <td>67</td>\n      <td>22</td>\n      <td>рішення,супроводжувати,бізнесу,наша,рівні,підх...</td>\n    </tr>\n    <tr>\n      <th>3</th>\n      <td>Automation QA Middle (Python) Engineer</td>\n      <td>Delphi Software</td>\n      <td>3</td>\n      <td>1500.0</td>\n      <td>31</td>\n      <td>7</td>\n      <td>manual,gatling,paid,schedule,language,system,s...</td>\n    </tr>\n    <tr>\n      <th>4</th>\n      <td>Senior Django Developer</td>\n      <td>Encomane</td>\n      <td>3</td>\n      <td>NaN</td>\n      <td>66</td>\n      <td>27</td>\n      <td>mysql,ап,консалтингова,робота,agreements,самос...</td>\n    </tr>\n  </tbody>\n</table>\n</div>"
     },
     "execution_count": 3,
     "metadata": {},
     "output_type": "execute_result"
    }
   ],
   "source": [
    "df = pd.read_csv(\"../vacancies.csv\")\n",
    "df.head()"
   ],
   "metadata": {
    "collapsed": false,
    "ExecuteTime": {
     "end_time": "2024-01-10T11:09:22.860007Z",
     "start_time": "2024-01-10T11:09:22.832264Z"
    }
   },
   "id": "88f16145181403e2",
   "execution_count": 3
  },
  {
   "cell_type": "code",
   "outputs": [],
   "source": [],
   "metadata": {
    "collapsed": false
   },
   "id": "8992f2e01a8db571"
  }
 ],
 "metadata": {
  "kernelspec": {
   "display_name": "Python 3",
   "language": "python",
   "name": "python3"
  },
  "language_info": {
   "codemirror_mode": {
    "name": "ipython",
    "version": 2
   },
   "file_extension": ".py",
   "mimetype": "text/x-python",
   "name": "python",
   "nbconvert_exporter": "python",
   "pygments_lexer": "ipython2",
   "version": "2.7.6"
  }
 },
 "nbformat": 4,
 "nbformat_minor": 5
}
